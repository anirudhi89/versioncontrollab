{
 "cells": [
  {
   "cell_type": "markdown",
   "metadata": {},
   "source": [
    "# This is Anirudh and Krit's Version Control Lab"
   ]
  },
  {
   "cell_type": "code",
   "execution_count": 1,
   "metadata": {},
   "outputs": [
    {
     "name": "stdout",
     "output_type": "stream",
     "text": [
      "Hello, anirudh iyer!\n",
      "If we flip your name around, it becomes iyer anirudh.\n"
     ]
    }
   ],
   "source": [
    "first_name = input(\"What is your first name? \")\n",
    "last_name = input(\"What is your last name? \")\n",
    "\n",
    "print(\"Hello, \" + first_name + \" \" + last_name + \"!\")\n",
    "print(\"If we flip your name around, it becomes \" + last_name + \" \" + first_name + \".\")\n",
    "\n",
    "# Add other string manipulations here"
   ]
  }
 ],
 "metadata": {
  "kernelspec": {
   "display_name": "Python 3",
   "language": "python",
   "name": "python3"
  },
  "language_info": {
   "codemirror_mode": {
    "name": "ipython",
    "version": 3
   },
   "file_extension": ".py",
   "mimetype": "text/x-python",
   "name": "python",
   "nbconvert_exporter": "python",
   "pygments_lexer": "ipython3",
   "version": "3.9.6"
  }
 },
 "nbformat": 4,
 "nbformat_minor": 2
}
